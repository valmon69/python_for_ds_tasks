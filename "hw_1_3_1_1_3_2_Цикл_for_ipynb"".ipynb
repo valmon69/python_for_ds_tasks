{
  "nbformat": 4,
  "nbformat_minor": 0,
  "metadata": {
    "colab": {
      "provenance": [],
      "include_colab_link": true
    },
    "kernelspec": {
      "name": "python3",
      "display_name": "Python 3"
    },
    "language_info": {
      "name": "python"
    }
  },
  "cells": [
    {
      "cell_type": "markdown",
      "metadata": {
        "id": "view-in-github",
        "colab_type": "text"
      },
      "source": [
        "<a href=\"https://colab.research.google.com/github/valmon69/python_for_ds_tasks/blob/main/%22hw_1_3_1_1_3_2_%D0%A6%D0%B8%D0%BA%D0%BB_for_ipynb%22%22.ipynb\" target=\"_parent\"><img src=\"https://colab.research.google.com/assets/colab-badge.svg\" alt=\"Open In Colab\"/></a>"
      ]
    },
    {
      "cell_type": "markdown",
      "source": [
        "#Домашнє завдання до теми \"Цикл for\""
      ],
      "metadata": {
        "id": "W8lqt6zd9axA"
      }
    },
    {
      "cell_type": "markdown",
      "source": [
        "0. Розігрів. Напишіть цикл, який виводить на екран числа від 1 до 10 включно."
      ],
      "metadata": {
        "id": "iXzoNTu604kH"
      }
    },
    {
      "cell_type": "code",
      "execution_count": null,
      "metadata": {
        "id": "zpwypSSp0MVm",
        "colab": {
          "base_uri": "https://localhost:8080/"
        },
        "outputId": "61c77b32-07f6-4276-d5ea-4733956b406d"
      },
      "outputs": [
        {
          "output_type": "stream",
          "name": "stdout",
          "text": [
            "1\n",
            "2\n",
            "3\n",
            "4\n",
            "5\n",
            "6\n",
            "7\n",
            "8\n",
            "9\n",
            "10\n"
          ]
        }
      ],
      "source": [
        "for num in range(1, 11):\n",
        " print(num)\n",
        "\n"
      ]
    },
    {
      "cell_type": "markdown",
      "source": [
        "**Початок покладено!**"
      ],
      "metadata": {
        "id": "JmWR8uze094H"
      }
    },
    {
      "cell_type": "markdown",
      "source": [
        "1. Задайте список `numbers`, який містить значення від 0 до 9 включно. Використовуючи цикл `for`, обчисліть суму елементів в створеному списку та виведіть фінальну суму на екран."
      ],
      "metadata": {
        "id": "OJX3yG-Blplu"
      }
    },
    {
      "cell_type": "code",
      "source": [
        "numbers = list(range(10))\n",
        "total_sum = 0\n",
        "\n",
        "for num in numbers:\n",
        "  total_sum += num\n",
        "\n",
        "print(\"Фінальна сума дорівнює:\", total_sum)"
      ],
      "metadata": {
        "id": "sSX30A5yuvUQ",
        "colab": {
          "base_uri": "https://localhost:8080/"
        },
        "outputId": "ab1cc653-da28-40ef-ee7e-d57c950863b7"
      },
      "execution_count": null,
      "outputs": [
        {
          "output_type": "stream",
          "name": "stdout",
          "text": [
            "Фінальна сума дорівнює: 45\n"
          ]
        }
      ]
    },
    {
      "cell_type": "markdown",
      "source": [
        "2. Використовуючи цикл  `for` виведіть для кожного елементу списку `numbers`,який ми створили в завданні 1, чи цей елемент дорівнює 5. Тобто після виконання циклу на екрані має бути 10 bool значень."
      ],
      "metadata": {
        "id": "6Tb2Kx_jmD5b"
      }
    },
    {
      "cell_type": "code",
      "source": [
        "for num in numbers:\n",
        "  print (num==5)"
      ],
      "metadata": {
        "id": "Ls8ZW8DWuwHC",
        "colab": {
          "base_uri": "https://localhost:8080/"
        },
        "outputId": "227f8dd1-5eb0-40a7-af3c-d08af9d32bff"
      },
      "execution_count": null,
      "outputs": [
        {
          "output_type": "stream",
          "name": "stdout",
          "text": [
            "False\n",
            "False\n",
            "False\n",
            "False\n",
            "False\n",
            "True\n",
            "False\n",
            "False\n",
            "False\n",
            "False\n"
          ]
        }
      ]
    },
    {
      "cell_type": "markdown",
      "source": [
        "3. Використовуючи цикл  `for` для кожного елементу списку `numbers`, який ми створили в завданні 1, виявіть, чи цей елемент ділиться на 2 без остачі, та запишіть результат у новий список `numbers_divisible_by_2`.\n",
        "\n",
        "Увага! Виконання завдання відрізняється від попереднього тим, що тепер ми результат обчислення на кожній ітерації записуємо у новий список. До того ж ми тут виконуємо іншу математичну операцію.\n",
        "\n",
        "Виведіть фільнальний список `numbers_divisible_by_2` на екран."
      ],
      "metadata": {
        "id": "ddFE1naOmp7Q"
      }
    },
    {
      "cell_type": "code",
      "source": [
        "numbers_divisible_by_2 = []\n",
        "\n",
        "for num in numbers:\n",
        "    numbers_divisible_by_2.append(num % 2 == 0)\n",
        "\n",
        "print(\"Фінальний список, що містить результати ділення на 2:\", numbers_divisible_by_2)"
      ],
      "metadata": {
        "id": "S2Pk_W12uyDo",
        "colab": {
          "base_uri": "https://localhost:8080/"
        },
        "outputId": "8f0b6d1f-28fe-44b9-ad52-3371f385f3fc"
      },
      "execution_count": null,
      "outputs": [
        {
          "output_type": "stream",
          "name": "stdout",
          "text": [
            "Фінальний список, що містить результати ділення на 2: [True, False, True, False, True, False, True, False, True, False]\n"
          ]
        }
      ]
    },
    {
      "cell_type": "markdown",
      "source": [
        "Очікуваний результат: `[True, False, True, False, True, False, True, False, True, False]`"
      ],
      "metadata": {
        "id": "cwvpWeVGnUGB"
      }
    },
    {
      "cell_type": "markdown",
      "source": [
        "4. Задано два списки в клітинці нижче - `a` і `b`. Створіть цикл, результатом якого буде список `result`, що містить елементи типу bool і який фактично каже,\n",
        "\"чи на цьому індексі елементи наших двох списків співпадають\". Приклад:\n",
        "```\n",
        "a = [1, 2, 3, 6]\n",
        "b = [1, 7, 3, 6]\n",
        "# ми виконали поелементне порівняння двох списків і отримали новий список result\n",
        "# result містить наступний результат -> [True, False, True, True]\n",
        "```\n",
        "В кінці виведіть вміст result на екран.\n",
        "\n",
        "<details>\n",
        "<summary>Підказка</summary>\n",
        "\n",
        "Аби порівняти елементи в циклі - треба створити цикл по індексам елементів. Зважаючи, що наші списки - одної довжини, цей підхід дозволить нам отримати чітко те, що треба.\n",
        "\n",
        "**Просунутий варіант.** Альтернативно можна створити цикл, який на кожній ітерації має доступ до двох елементів - по одному з кожного списка, для цього треба скористатись функцією `zip` - приклад [тут](https://realpython.com/python-zip-function/#traversing-lists-in-parallel)\n",
        "</details>\n"
      ],
      "metadata": {
        "id": "0rgeGpJ3utVN"
      }
    },
    {
      "cell_type": "code",
      "source": [
        "a = [64, 93, 60, 95, 66, 9, 15, 55, 77, 28, 74, 100, 13, 1, 85, 48, 66, 65, 59, 32]\n",
        "b = [64, 93, 60, 95, 66, 9, 15, 56, 77, 28, 74, 100, 13, 1, 85, 48, 67, 65, 59, 32]"
      ],
      "metadata": {
        "id": "IIYG41pWdJiG"
      },
      "execution_count": null,
      "outputs": []
    },
    {
      "cell_type": "code",
      "source": [
        "a = [1, 2, 3, 6]\n",
        "b = [1, 7, 3, 6]\n",
        "result = []\n",
        "\n",
        "for i in range(len(a)):\n",
        "\n",
        "  result.append(a[i] == b[i])\n",
        "\n",
        "print(result)"
      ],
      "metadata": {
        "id": "XgZwTwr4u2lA",
        "colab": {
          "base_uri": "https://localhost:8080/"
        },
        "outputId": "904d8e10-1636-495c-bfd8-946121692ae6"
      },
      "execution_count": null,
      "outputs": [
        {
          "output_type": "stream",
          "name": "stdout",
          "text": [
            "[True, False, True, True]\n"
          ]
        }
      ]
    },
    {
      "cell_type": "markdown",
      "source": [
        "5. Нижче задано список `numbers`. Виконайте клітинку з його заданням.\n",
        "\n",
        "  Давайте знайдемо середнє арифметичне значення елементів списку `numbers` округлене до 2 цифр після коми та запишемо його у змінну `numbers_mean`. Для цього виконаємо два простих кроки.\n",
        "\n",
        "  1) Знайдіть суму всіх елементів списку `numbers` та запишіть її у змінну `numbers_sum`. Можна з використанням циклу, а можна і без.\n",
        "\n",
        "  2) Обчисліть `numbers_mean` шляхом ділення суми елементів у списку на їх кількість. Кількість елементів в списку - це його довжина.\n",
        "\n",
        "  Виведіть `numbers_mean`, округлений до 2 цифр після коми, на екран.\n",
        "\n",
        "  **Підказка**: округлити число можна з використанням вбудованої функції Python [round()](https://docs.python.org/3/library/functions.html#round)."
      ],
      "metadata": {
        "id": "0Z2cObcTutVO"
      }
    },
    {
      "cell_type": "code",
      "source": [
        "numbers = [42, 51, 29, 2, 13, 44, 80, 66, 16]"
      ],
      "metadata": {
        "id": "TwuOmLpeutVO"
      },
      "execution_count": null,
      "outputs": []
    },
    {
      "cell_type": "code",
      "source": [
        "\n",
        "numbers_sum = sum(numbers)\n",
        "numbers_mean = round(numbers_sum / len(numbers), 2)\n",
        "print(numbers_mean)"
      ],
      "metadata": {
        "id": "R-qDvKVcu6e1",
        "colab": {
          "base_uri": "https://localhost:8080/"
        },
        "outputId": "49756e9c-aab2-4fa9-ce76-dc2719c127fe"
      },
      "execution_count": null,
      "outputs": [
        {
          "output_type": "stream",
          "name": "stdout",
          "text": [
            "38.11\n"
          ]
        }
      ]
    },
    {
      "cell_type": "markdown",
      "source": [
        "Очікуваний результат: `38.11`"
      ],
      "metadata": {
        "id": "pSdssHuuutVQ"
      }
    },
    {
      "cell_type": "markdown",
      "source": [
        "6. Задано список `a` і елемент `element`. Перевірте програмно чи є в списку `a` елемент `element` з допомогою інструкцій `if ... else`. Виведіть на екран відповідь \"Так, є\", якщо цей елемент в списку присутній, або \"Ні, нема\", якщо його там немає.\n",
        "Важливо це зробити без використання імпортів будь-яких бібліотек.\n",
        "\n",
        "  Тут цикла немає :) Але це завдання - підготовче до наступного."
      ],
      "metadata": {
        "id": "JsevSvVtutVQ"
      }
    },
    {
      "cell_type": "code",
      "source": [
        "a = [64, 93, 60, 95, 66, 9, 15, 55, 77, 28, 74, 100, 13, 1, 85, 48, 66, 65, 59, 32]\n",
        "element = 33"
      ],
      "metadata": {
        "id": "TqkTdlN_utVQ"
      },
      "execution_count": null,
      "outputs": []
    },
    {
      "cell_type": "code",
      "source": [
        "\n",
        "if element in a:\n",
        "    print(\"Так, є\")\n",
        "else:\n",
        "    print(\"Ні, нема\")"
      ],
      "metadata": {
        "id": "aL_76T8pu7fp",
        "colab": {
          "base_uri": "https://localhost:8080/"
        },
        "outputId": "76cdfbee-13e5-4b29-dd2c-0b8eb5a805fc"
      },
      "execution_count": null,
      "outputs": [
        {
          "output_type": "stream",
          "name": "stdout",
          "text": [
            "Ні, нема\n"
          ]
        }
      ]
    },
    {
      "cell_type": "markdown",
      "source": [
        "7. Тепер у нас не один елемент, а кілька. Вони наведені в змінній `elements`. За допомогою циклу і інструкцій `if ... else` для кожного елемента списку `elements` перевірте, чи він є в списку `a`.\n",
        "Виведіть на екран відповідь \"Так, є елемент <вставити значення елемента>\", якщо елемент в списку присутній, або \"Ні, нема елемента <вставити значення елемента>\", якщо його там немає."
      ],
      "metadata": {
        "id": "QKjmv4j0utVR"
      }
    },
    {
      "cell_type": "code",
      "source": [
        "elements = [44, 66, 77, 100]"
      ],
      "metadata": {
        "id": "TF3nT5TMutVR"
      },
      "execution_count": null,
      "outputs": []
    },
    {
      "cell_type": "code",
      "source": [
        "for elem in elements:\n",
        "    if elem in a:\n",
        "        print(f\"Так, є елемент {elem}\")\n",
        "    else:\n",
        "        print(f\"Ні, нема елемента {elem}\")"
      ],
      "metadata": {
        "id": "pQD5InOQvG1d",
        "colab": {
          "base_uri": "https://localhost:8080/"
        },
        "outputId": "4f5f6859-d888-48bc-8918-49b1c8e314fb"
      },
      "execution_count": null,
      "outputs": [
        {
          "output_type": "stream",
          "name": "stdout",
          "text": [
            "Ні, нема елемента 44\n",
            "Так, є елемент 66\n",
            "Так, є елемент 77\n",
            "Так, є елемент 100\n"
          ]
        }
      ]
    }
  ]
}