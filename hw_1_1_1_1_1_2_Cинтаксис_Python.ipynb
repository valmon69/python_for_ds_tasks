{
  "nbformat": 4,
  "nbformat_minor": 0,
  "metadata": {
    "colab": {
      "provenance": []
    },
    "kernelspec": {
      "name": "python3",
      "display_name": "Python 3"
    },
    "language_info": {
      "name": "python"
    }
  },
  "cells": [
    {
      "cell_type": "markdown",
      "source": [
        "#Домашнє завдання до теми \"Синтаксис Python\"\n",
        "\n",
        "В ДЗ першого модулю важливою умовою виконання завдань є те, що ми не імпортуємо жодних бібліотек, а робимо все на чистому Python, використовуючи лише базовий функціонал. Це необхідно аби відпрацювати роботу з базовими типами даних. А використовувати бібліотеки ми ще навчимось далі :)"
      ],
      "metadata": {
        "id": "tvPKWXfD7yRv"
      }
    },
    {
      "cell_type": "markdown",
      "source": [
        "1. Створіть змінну, яка буде зберігати кількість яблук. І надайте їй значення 5. Виведіть значення змінної на екран."
      ],
      "metadata": {
        "id": "xE1KHmUbQVbC"
      }
    },
    {
      "cell_type": "code",
      "source": [
        "number_of_apples = 5\n",
        "print(number_of_apples)"
      ],
      "metadata": {
        "id": "iz5QpN-vQUtN",
        "colab": {
          "base_uri": "https://localhost:8080/"
        },
        "outputId": "4e671e80-a9c9-4fb3-90bf-0594601b405f"
      },
      "execution_count": 1,
      "outputs": [
        {
          "output_type": "stream",
          "name": "stdout",
          "text": [
            "5\n"
          ]
        }
      ]
    },
    {
      "cell_type": "markdown",
      "source": [
        "2. Виведіть тип змінної, створеної в завданні (1)."
      ],
      "metadata": {
        "id": "wx6RsBHAQd9q"
      }
    },
    {
      "cell_type": "code",
      "source": [
        "number_of_apples = 5\n",
        "print(type(number_of_apples))"
      ],
      "metadata": {
        "id": "f48l2PhiQi86",
        "colab": {
          "base_uri": "https://localhost:8080/"
        },
        "outputId": "535594c7-4005-410f-c345-6fede88d5834"
      },
      "execution_count": 2,
      "outputs": [
        {
          "output_type": "stream",
          "name": "stdout",
          "text": [
            "<class 'int'>\n"
          ]
        }
      ]
    },
    {
      "cell_type": "markdown",
      "source": [
        "3. Додайте до значення змінної, створеної в завданні (1) число `12` і виведіть результат на екран з допомогою команди `print()`."
      ],
      "metadata": {
        "id": "UEc59pPcQnva"
      }
    },
    {
      "cell_type": "code",
      "source": [
        "number_of_apples=5\n",
        "number_of_apples+=12\n",
        "print(number_of_apples)"
      ],
      "metadata": {
        "id": "gu-vkERpQoCY",
        "colab": {
          "base_uri": "https://localhost:8080/"
        },
        "outputId": "5f1a64c9-f047-4686-e6d9-4e2eb26678d8"
      },
      "execution_count": 3,
      "outputs": [
        {
          "output_type": "stream",
          "name": "stdout",
          "text": [
            "17\n"
          ]
        }
      ]
    },
    {
      "cell_type": "markdown",
      "source": [
        "4. Запустіть код нижче аби створити дві змінні."
      ],
      "metadata": {
        "id": "yOztaNuqqcMy"
      }
    },
    {
      "cell_type": "code",
      "source": [
        "a = 48\n",
        "b = 3"
      ],
      "metadata": {
        "id": "kbXeQSgcqncV"
      },
      "execution_count": 6,
      "outputs": []
    },
    {
      "cell_type": "markdown",
      "source": [
        "Створіть нову клітинку нижче цієї з допомогою натискання англійської літери `B`, коли ви НЕ в режимі редагування клітинки. В створеній клітинці створіть змінну `c`, яка буде містити результат ділення `a` на `b`."
      ],
      "metadata": {
        "id": "9ojIRMw3qvw8"
      }
    },
    {
      "cell_type": "code",
      "source": [
        "print (a,b,c)\n",
        "print (type(a), type (b),type (c))"
      ],
      "metadata": {
        "id": "IbZhgpBUEvpQ",
        "outputId": "f364735e-792d-4a1d-faa7-51df86c9f98d",
        "colab": {
          "base_uri": "https://localhost:8080/"
        }
      },
      "execution_count": 12,
      "outputs": [
        {
          "output_type": "stream",
          "name": "stdout",
          "text": [
            "48 3 16.0\n",
            "<class 'int'> <class 'int'> <class 'float'>\n"
          ]
        }
      ]
    },
    {
      "cell_type": "code",
      "source": [
        "c=a/b\n",
        "print (c)"
      ],
      "metadata": {
        "id": "D8_IeM_8EQJS",
        "outputId": "245d6b91-3818-4f5b-dc8d-277054378bff",
        "colab": {
          "base_uri": "https://localhost:8080/"
        }
      },
      "execution_count": 8,
      "outputs": [
        {
          "output_type": "stream",
          "name": "stdout",
          "text": [
            "16.0\n"
          ]
        }
      ]
    },
    {
      "cell_type": "markdown",
      "source": [
        "Створіть ще одну нову клітинку, тільки тепер вище цієї. Для цього натисніть  англійську літеру `A`, коли ви НЕ в режимі редагування клітинки. Виведіть в новоствореній клітинці значення і тип кожної зі змінних `a`, `b`, `c`. Проаналізуйте результат.\n"
      ],
      "metadata": {
        "id": "XcmIZ24wq4px"
      }
    },
    {
      "cell_type": "markdown",
      "source": [
        "У Python, коли ви ділите одне ціле число на інше, результат буде автоматично приведений до типу float, якщо він не є цілим числом. Це робиться для того, щоб забезпечити більш точний результат ділення, особливо коли результат міг би бути десятковим числом."
      ],
      "metadata": {
        "id": "v9rj7B4-sGaG"
      }
    },
    {
      "cell_type": "markdown",
      "source": [
        "5. Перегляньте наступний код, подумайте, що він виведе в результаті, та потім, запустіть його."
      ],
      "metadata": {
        "id": "irjcdM8puaEx"
      }
    },
    {
      "cell_type": "code",
      "source": [
        "a = 10\n",
        "a = 12\n",
        "a = 15\n",
        "\n",
        "b = 4\n",
        "b = 8\n",
        "b = 14\n",
        "\n",
        "c = 3\n",
        "c = 6\n",
        "c = 9\n",
        "\n",
        "\n",
        "a + b + c"
      ],
      "metadata": {
        "id": "KmhCY0ttt8rW",
        "colab": {
          "base_uri": "https://localhost:8080/"
        },
        "outputId": "29f835f1-0f9a-4417-9724-d5994f5bf1d5"
      },
      "execution_count": 13,
      "outputs": [
        {
          "output_type": "execute_result",
          "data": {
            "text/plain": [
              "38"
            ]
          },
          "metadata": {},
          "execution_count": 13
        }
      ]
    },
    {
      "cell_type": "markdown",
      "source": [
        "В клітинці нижче закоментуйте деякі рядки так, аби в результаті виконання останнього рядка коду (`a + b + c`) вивелось `17`.\n",
        "Увага! Рядки треба саме закоментувати, а не видалити.\n",
        "Можна зручно коментувати рядки з допомогою комбінації клавіш `Ctrl + /` (`Command + /` для Mac)"
      ],
      "metadata": {
        "id": "JrUTyGyQufwq"
      }
    },
    {
      "cell_type": "code",
      "source": [
        "a = 10\n",
        "#a = 12\n",
        "#a = 15\n",
        "\n",
        "b = 4\n",
        "#b = 8\n",
        "#b = 14\n",
        "\n",
        "c = 3\n",
        "#c = 6\n",
        "#c = 9\n",
        "\n",
        "\n",
        "a + b + c"
      ],
      "metadata": {
        "id": "R4VXgSQKwVoc",
        "colab": {
          "base_uri": "https://localhost:8080/"
        },
        "outputId": "cd5ff420-034d-491b-d898-737b56e913f6"
      },
      "execution_count": 14,
      "outputs": [
        {
          "output_type": "execute_result",
          "data": {
            "text/plain": [
              "17"
            ]
          },
          "metadata": {},
          "execution_count": 14
        }
      ]
    }
  ]
}